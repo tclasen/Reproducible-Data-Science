{
 "cells": [
  {
   "cell_type": "markdown",
   "metadata": {
    "slideshow": {
     "slide_type": "slide"
    }
   },
   "source": [
    "# Reproducible Data Science\n",
    "\n",
    "## Tory W. Clasen\n",
    "## Chief Data Scientist\n",
    "### 18 JUL 19"
   ]
  },
  {
   "cell_type": "markdown",
   "metadata": {
    "slideshow": {
     "slide_type": "slide"
    }
   },
   "source": [
    "# My Backstory\n",
    "\n",
    "\n",
    " - 20 years of software development (Python < 0.9!)\n",
    " -  8 years of cyber stuff\n",
    " -  4 years of data science\n",
    " \n",
    " \n",
    " ** Remind Tory to go on a tangent, time permitting"
   ]
  },
  {
   "cell_type": "markdown",
   "metadata": {
    "slideshow": {
     "slide_type": "slide"
    }
   },
   "source": [
    "# What does it mean for research to be reproducible?"
   ]
  },
  {
   "cell_type": "markdown",
   "metadata": {
    "slideshow": {
     "slide_type": "fragment"
    }
   },
   "source": [
    " - <B>Reproducibility:</B>\n",
    "\n",
    "A study is reproducible if you can take the original data and the computer code used to analyze the data and reproduce all of the numerical findings from the study.\n",
    "\n",
    "** <B>functional purity</B>"
   ]
  },
  {
   "cell_type": "markdown",
   "metadata": {
    "slideshow": {
     "slide_type": "fragment"
    }
   },
   "source": [
    " - <B>Replicability:</B>\n",
    "\n",
    "This is the act of repeating an entire study, independently of the original investigator without the use of original data (but generally using the same methods). "
   ]
  },
  {
   "cell_type": "markdown",
   "metadata": {
    "slideshow": {
     "slide_type": "slide"
    }
   },
   "source": [
    "# Reproducicble research has 4 components:"
   ]
  },
  {
   "cell_type": "markdown",
   "metadata": {
    "slideshow": {
     "slide_type": "subslide"
    }
   },
   "source": [
    "## Source Data"
   ]
  },
  {
   "cell_type": "code",
   "execution_count": 14,
   "metadata": {
    "slideshow": {
     "slide_type": "fragment"
    }
   },
   "outputs": [
    {
     "name": "stdout",
     "output_type": "stream",
     "text": [
      "b439982f30b5b47fde89ff1384b671e0\n",
      "de6fdc009fda2de3cf4dab4bfd4529c2\n",
      "62028945d0ab974e183756ebbb1ca07f\n",
      "f6febaf70042268a17efc985875131f5\n"
     ]
    }
   ],
   "source": [
    "%%bash\n",
    "head -n 4 malware_hash_list.txt"
   ]
  },
  {
   "cell_type": "code",
   "execution_count": 15,
   "metadata": {
    "slideshow": {
     "slide_type": "fragment"
    }
   },
   "outputs": [
    {
     "name": "stdout",
     "output_type": "stream",
     "text": [
      "#!/bin/bash\n",
      "\n",
      "source config.env\n",
      "\n",
      "if [ ! -d samples ]; then\n",
      "    mkdir samples\n",
      "\n",
      "    for sample in $( cat malware_hash_list.txt ); do\n",
      "\techo \"Downloading $sample\"\n",
      "        curl -o ./samples/$sample  \"https://malshare.com/api.php?api_key=$MALSHARE_API_KEY&action=getfile&hash=$sample\"\n",
      "    done\n",
      "fi\n"
     ]
    }
   ],
   "source": [
    "%%bash\n",
    "cat 1_download_samples.sh"
   ]
  },
  {
   "cell_type": "markdown",
   "metadata": {
    "slideshow": {
     "slide_type": "subslide"
    }
   },
   "source": [
    "## Source Code"
   ]
  },
  {
   "cell_type": "code",
   "execution_count": 16,
   "metadata": {
    "slideshow": {
     "slide_type": "fragment"
    }
   },
   "outputs": [
    {
     "name": "stdout",
     "output_type": "stream",
     "text": [
      "#!/bin/bash\n",
      "\n",
      "source config.env\n",
      "\n",
      "if [ ! -d hashes ]; then\n",
      "    mkdir hashes\n",
      "\n",
      "    docker run \\\n",
      "        --rm \\\n",
      "        -it \\\n",
      "        -v \"$PWD\"/samples:/archive \\\n",
      "        -v \"$PWD\"/hashes:/hashes \\\n",
      "        -w /hashes \\\n",
      "        --name pharos \\\n",
      "        eschwartz/pharos:$PHAROS_DOCKER_TAG \\\n",
      "        /bin/bash -c \"\\\n",
      "            for i in /archive/*; do \\\n",
      "                fn2hash \\$i; \\\n",
      "            done > hashes.csv;\\\n",
      "            for i in /archive/*; do \\\n",
      "\t        fn2yara \\$i; \\\n",
      "\t    done\"\n",
      "fi\n"
     ]
    }
   ],
   "source": [
    "%%bash\n",
    "cat 2_hash_samples.sh"
   ]
  },
  {
   "cell_type": "markdown",
   "metadata": {
    "slideshow": {
     "slide_type": "subslide"
    }
   },
   "source": [
    "## Configuration Information"
   ]
  },
  {
   "cell_type": "code",
   "execution_count": 17,
   "metadata": {
    "slideshow": {
     "slide_type": "fragment"
    }
   },
   "outputs": [
    {
     "name": "stdout",
     "output_type": "stream",
     "text": [
      "JUPYTER_PASSWORD=\"\"\n",
      "JUPYTER_DOCKER_TAG=\"6c3390a9292e\"\n",
      "\n",
      "MALSHARE_API_KEY=\"<REPLACE WITH YOUR API KEY>\"\n",
      "\n",
      "PHAROS_DOCKER_TAG=\"latest\""
     ]
    }
   ],
   "source": [
    "%%bash\n",
    "cat config.env"
   ]
  },
  {
   "cell_type": "markdown",
   "metadata": {
    "slideshow": {
     "slide_type": "fragment"
    }
   },
   "source": [
    "** <B>Pets vs. Cattle</B>"
   ]
  },
  {
   "cell_type": "markdown",
   "metadata": {
    "slideshow": {
     "slide_type": "subslide"
    }
   },
   "source": [
    "## Intermediate Data and results"
   ]
  },
  {
   "cell_type": "markdown",
   "metadata": {
    "slideshow": {
     "slide_type": "fragment"
    }
   },
   "source": [
    "### Show your work!"
   ]
  },
  {
   "cell_type": "markdown",
   "metadata": {
    "slideshow": {
     "slide_type": "slide"
    }
   },
   "source": [
    "# Reproducible Data Science with 10 easy rules, you won't believe #9!"
   ]
  },
  {
   "cell_type": "markdown",
   "metadata": {
    "slideshow": {
     "slide_type": "slide"
    }
   },
   "source": [
    "## Rule 1: For Every Result, Keep Track of How It Was Produced"
   ]
  },
  {
   "cell_type": "markdown",
   "metadata": {
    "slideshow": {
     "slide_type": "fragment"
    }
   },
   "source": [
    " - \"OP Notes\"\n",
    " - Jupyter Notebooks\n",
    " - \"script\" command"
   ]
  },
  {
   "cell_type": "markdown",
   "metadata": {
    "slideshow": {
     "slide_type": "slide"
    }
   },
   "source": [
    "## Rule 2: Avoid Manual Data Manipulation Steps"
   ]
  },
  {
   "cell_type": "markdown",
   "metadata": {
    "slideshow": {
     "slide_type": "fragment"
    }
   },
   "source": [
    " - Don't use excel"
   ]
  },
  {
   "cell_type": "markdown",
   "metadata": {
    "slideshow": {
     "slide_type": "fragment"
    }
   },
   "source": [
    " - Instead use:\n",
    " \n",
    "`zcat conn.gz.log | bro-cut id.orig_h id.orig_p id.resp_h id.resp_p orig_bytes | awk '{ a[\"\\t\", $1, \"\\t\", $2, \"\\t\", $3, \"\\t\", $4] +=$5 } END { for ( i in a ) { print i, \"\\t\", a[i] } }' | sort -rnk6 | head -n $size 2>/dev/null`"
   ]
  },
  {
   "cell_type": "markdown",
   "metadata": {
    "slideshow": {
     "slide_type": "slide"
    }
   },
   "source": [
    "## Rule 3: Archive the Exact Versions of All External Programs Used"
   ]
  },
  {
   "cell_type": "markdown",
   "metadata": {
    "slideshow": {
     "slide_type": "fragment"
    }
   },
   "source": [
    "Do this:\n",
    "\n",
    "`docker run \\\n",
    "        --rm \\\n",
    "        -it \\\n",
    "        -v \"$PWD\"/samples:/archive \\\n",
    "        -v \"$PWD\"/hashes:/hashes \\\n",
    "        -w /hashes \\\n",
    "        --name pharos \\\n",
    "        eschwartz/pharos:$PHAROS_DOCKER_TAG`"
   ]
  },
  {
   "cell_type": "markdown",
   "metadata": {
    "slideshow": {
     "slide_type": "fragment"
    }
   },
   "source": [
    "But don't do this:\n",
    "\n",
    "`PHAROS_DOCKER_TAG=\"latest\"`\n",
    "\n",
    "** <B>CI/CD Pipelines in Data Science</B>"
   ]
  },
  {
   "cell_type": "markdown",
   "metadata": {
    "slideshow": {
     "slide_type": "slide"
    }
   },
   "source": [
    "## Rule 4: Version Control All Custom Scripts"
   ]
  },
  {
   "cell_type": "code",
   "execution_count": null,
   "metadata": {
    "slideshow": {
     "slide_type": "fragment"
    }
   },
   "outputs": [],
   "source": [
    "%%bash\n",
    "git status"
   ]
  },
  {
   "cell_type": "markdown",
   "metadata": {
    "slideshow": {
     "slide_type": "slide"
    }
   },
   "source": [
    "## Rule 5: Record All Intermediate Results, When Possible in Standardized Formats"
   ]
  },
  {
   "cell_type": "markdown",
   "metadata": {
    "slideshow": {
     "slide_type": "fragment"
    }
   },
   "source": []
  },
  {
   "cell_type": "markdown",
   "metadata": {
    "slideshow": {
     "slide_type": "slide"
    }
   },
   "source": [
    "## Rule 6: For Analyses That Include Randomness, Note Underlying Random Seeds\n"
   ]
  },
  {
   "cell_type": "markdown",
   "metadata": {
    "slideshow": {
     "slide_type": "fragment"
    }
   },
   "source": [
    "** <B>functional purity</B>"
   ]
  },
  {
   "cell_type": "markdown",
   "metadata": {
    "slideshow": {
     "slide_type": "slide"
    }
   },
   "source": [
    "## Rule 7: Always Store Raw Data behind Plots"
   ]
  },
  {
   "cell_type": "markdown",
   "metadata": {
    "slideshow": {
     "slide_type": "fragment"
    }
   },
   "source": []
  },
  {
   "cell_type": "markdown",
   "metadata": {
    "slideshow": {
     "slide_type": "slide"
    }
   },
   "source": [
    "## Rule 8: Generate Hierarchical Analysis Output, Allowing Layers of Increasing Detail to Be Inspected"
   ]
  },
  {
   "cell_type": "markdown",
   "metadata": {
    "slideshow": {
     "slide_type": "fragment"
    }
   },
   "source": []
  },
  {
   "cell_type": "markdown",
   "metadata": {
    "slideshow": {
     "slide_type": "slide"
    }
   },
   "source": [
    "## Rule 9: Connect Textual Statements to Underlying Results"
   ]
  },
  {
   "cell_type": "markdown",
   "metadata": {
    "slideshow": {
     "slide_type": "fragment"
    }
   },
   "source": []
  },
  {
   "cell_type": "markdown",
   "metadata": {
    "slideshow": {
     "slide_type": "slide"
    }
   },
   "source": [
    "## Rule 10: Provide Public Access to Scripts, Runs, and Results"
   ]
  },
  {
   "cell_type": "markdown",
   "metadata": {
    "slideshow": {
     "slide_type": "fragment"
    }
   },
   "source": []
  },
  {
   "cell_type": "markdown",
   "metadata": {
    "slideshow": {
     "slide_type": "slide"
    }
   },
   "source": [
    "# Questions?"
   ]
  },
  {
   "cell_type": "markdown",
   "metadata": {
    "slideshow": {
     "slide_type": "skip"
    }
   },
   "source": [
    "\n",
    "https://www.amstat.org/asa/files/pdfs/POL-ReproducibleResearchRecommendations.pdf\n",
    "\n",
    "https://data-ken.org/how-to-build-reproducable-data-science-workflow.html\n",
    "\n",
    "https://journals.plos.org/ploscompbiol/article?id=10.1371/journal.pcbi.1003285#s9"
   ]
  }
 ],
 "metadata": {
  "celltoolbar": "Slideshow",
  "kernelspec": {
   "display_name": "Python 3",
   "language": "python",
   "name": "python3"
  },
  "language_info": {
   "codemirror_mode": {
    "name": "ipython",
    "version": 3
   },
   "file_extension": ".py",
   "mimetype": "text/x-python",
   "name": "python",
   "nbconvert_exporter": "python",
   "pygments_lexer": "ipython3",
   "version": "3.7.3"
  }
 },
 "nbformat": 4,
 "nbformat_minor": 2
}
