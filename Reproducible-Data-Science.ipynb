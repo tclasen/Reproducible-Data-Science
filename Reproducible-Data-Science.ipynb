{
 "cells": [
  {
   "cell_type": "markdown",
   "metadata": {
    "slideshow": {
     "slide_type": "slide"
    }
   },
   "source": [
    "# Reproducible Data Science\n",
    "\n",
    "## Tory W. Clasen\n",
    "## Chief Data Scientist\n",
    "### 18 JUL 19"
   ]
  },
  {
   "cell_type": "markdown",
   "metadata": {
    "slideshow": {
     "slide_type": "slide"
    }
   },
   "source": [
    "# My Backstory\n",
    "\n",
    "\n",
    " - 20 years of software development (Python < 0.9!)\n",
    " -  8 years of cyber stuff\n",
    " -  4 years of data science\n",
    " \n",
    " \n",
    " ** Remind Tory to go on a tangent, time permitting"
   ]
  },
  {
   "cell_type": "markdown",
   "metadata": {
    "slideshow": {
     "slide_type": "slide"
    }
   },
   "source": [
    "# What does it mean for research to be reproducible?"
   ]
  },
  {
   "cell_type": "markdown",
   "metadata": {
    "slideshow": {
     "slide_type": "fragment"
    }
   },
   "source": [
    " - <B>Reproducibility:</B>\n",
    "\n",
    "A study is reproducible if you can take the original data and the computer code used to analyze the data and reproduce all of the numerical findings from the study.\n",
    "\n",
    "** <B>functional purity</B>"
   ]
  },
  {
   "cell_type": "markdown",
   "metadata": {
    "slideshow": {
     "slide_type": "fragment"
    }
   },
   "source": [
    " - <B>Replicability:</B>\n",
    "\n",
    "This is the act of repeating an entire study, independently of the original investigator without the use of original data (but generally using the same methods). "
   ]
  },
  {
   "cell_type": "markdown",
   "metadata": {
    "slideshow": {
     "slide_type": "slide"
    }
   },
   "source": [
    "# Reproducicble research has 4 components:"
   ]
  },
  {
   "cell_type": "markdown",
   "metadata": {
    "slideshow": {
     "slide_type": "subslide"
    }
   },
   "source": [
    "## Source Data"
   ]
  },
  {
   "cell_type": "code",
   "execution_count": 1,
   "metadata": {
    "slideshow": {
     "slide_type": "fragment"
    }
   },
   "outputs": [
    {
     "name": "stdout",
     "output_type": "stream",
     "text": [
      "b439982f30b5b47fde89ff1384b671e0\n",
      "de6fdc009fda2de3cf4dab4bfd4529c2\n",
      "62028945d0ab974e183756ebbb1ca07f\n",
      "f6febaf70042268a17efc985875131f5\n"
     ]
    }
   ],
   "source": [
    "%%bash\n",
    "head -n 4 malware_hash_list.txt"
   ]
  },
  {
   "cell_type": "code",
   "execution_count": 2,
   "metadata": {
    "slideshow": {
     "slide_type": "fragment"
    }
   },
   "outputs": [
    {
     "name": "stdout",
     "output_type": "stream",
     "text": [
      "#!/bin/bash\n",
      "\n",
      "source config.env\n",
      "\n",
      "if [ ! -d samples ]; then\n",
      "    mkdir samples\n",
      "\n",
      "    for sample in $( cat malware_hash_list.txt ); do\n",
      "\techo \"Downloading $sample\"\n",
      "        curl -o ./samples/$sample  \"https://malshare.com/api.php?api_key=$MALSHARE_API_KEY&action=getfile&hash=$sample\"\n",
      "    done\n",
      "fi\n"
     ]
    }
   ],
   "source": [
    "%%bash\n",
    "cat 1_download_samples.sh"
   ]
  },
  {
   "cell_type": "markdown",
   "metadata": {
    "slideshow": {
     "slide_type": "subslide"
    }
   },
   "source": [
    "## Source Code"
   ]
  },
  {
   "cell_type": "code",
   "execution_count": 3,
   "metadata": {
    "slideshow": {
     "slide_type": "fragment"
    }
   },
   "outputs": [
    {
     "name": "stdout",
     "output_type": "stream",
     "text": [
      "#!/bin/bash\n",
      "\n",
      "source config.env\n",
      "\n",
      "if [ ! -d hashes ]; then\n",
      "    mkdir hashes\n",
      "\n",
      "    docker run \\\n",
      "        --rm \\\n",
      "        -it \\\n",
      "        -v \"$PWD\"/samples:/archive \\\n",
      "        -v \"$PWD\"/hashes:/hashes \\\n",
      "        -w /hashes \\\n",
      "        --name pharos \\\n",
      "        eschwartz/pharos:$PHAROS_DOCKER_TAG \\\n",
      "        /bin/bash -c \"\\\n",
      "            for i in /archive/*; do \\\n",
      "                fn2hash \\$i; \\\n",
      "            done > hashes.csv;\\\n",
      "            for i in /archive/*; do \\\n",
      "\t        fn2yara \\$i; \\\n",
      "\t    done\"\n",
      "fi\n"
     ]
    }
   ],
   "source": [
    "%%bash\n",
    "cat 2_hash_samples.sh"
   ]
  },
  {
   "cell_type": "markdown",
   "metadata": {
    "slideshow": {
     "slide_type": "subslide"
    }
   },
   "source": [
    "## Configuration Information"
   ]
  },
  {
   "cell_type": "code",
   "execution_count": 4,
   "metadata": {
    "slideshow": {
     "slide_type": "fragment"
    }
   },
   "outputs": [
    {
     "name": "stdout",
     "output_type": "stream",
     "text": [
      "JUPYTER_PASSWORD=\"\"\n",
      "JUPYTER_DOCKER_TAG=\"6c3390a9292e\"\n",
      "\n",
      "MALSHARE_API_KEY=\"<REPLACE WITH YOUR API KEY>\"\n",
      "\n",
      "PHAROS_DOCKER_TAG=\"latest\""
     ]
    }
   ],
   "source": [
    "%%bash\n",
    "cat config.env"
   ]
  },
  {
   "cell_type": "markdown",
   "metadata": {
    "slideshow": {
     "slide_type": "fragment"
    }
   },
   "source": [
    "** <B>Pets vs. Cattle</B>"
   ]
  },
  {
   "cell_type": "markdown",
   "metadata": {
    "slideshow": {
     "slide_type": "subslide"
    }
   },
   "source": [
    "## Intermediate Data and results"
   ]
  },
  {
   "cell_type": "markdown",
   "metadata": {
    "slideshow": {
     "slide_type": "fragment"
    }
   },
   "source": [
    "### Show your work!"
   ]
  },
  {
   "cell_type": "markdown",
   "metadata": {
    "slideshow": {
     "slide_type": "slide"
    }
   },
   "source": [
    "# Reproducible Data Science with 10 easy rules, you won't believe #9!"
   ]
  },
  {
   "cell_type": "markdown",
   "metadata": {
    "slideshow": {
     "slide_type": "slide"
    }
   },
   "source": [
    "## Rule 1: For Every Result, Keep Track of How It Was Produced"
   ]
  },
  {
   "cell_type": "markdown",
   "metadata": {
    "slideshow": {
     "slide_type": "fragment"
    }
   },
   "source": [
    " - Again, show your work!\n",
    " - \"OP Notes\"\n",
    " - Jupyter Notebooks\n",
    " - \"script\" command"
   ]
  },
  {
   "cell_type": "markdown",
   "metadata": {
    "slideshow": {
     "slide_type": "slide"
    }
   },
   "source": [
    "## Rule 2: Avoid Manual Data Manipulation Steps"
   ]
  },
  {
   "cell_type": "markdown",
   "metadata": {
    "slideshow": {
     "slide_type": "fragment"
    }
   },
   "source": [
    " - Don't use excel"
   ]
  },
  {
   "cell_type": "markdown",
   "metadata": {
    "slideshow": {
     "slide_type": "fragment"
    }
   },
   "source": [
    " - Instead use:\n",
    " \n",
    "`zcat conn.gz.log | bro-cut id.orig_h id.orig_p id.resp_h id.resp_p orig_bytes | awk '{ a[\"\\t\", $1, \"\\t\", $2, \"\\t\", $3, \"\\t\", $4] +=$5 } END { for ( i in a ) { print i, \"\\t\", a[i] } }' | sort -rnk6 | head -n $size 2>/dev/null`"
   ]
  },
  {
   "cell_type": "markdown",
   "metadata": {
    "slideshow": {
     "slide_type": "slide"
    }
   },
   "source": [
    "## Rule 3: Archive the Exact Versions of All External Programs Used"
   ]
  },
  {
   "cell_type": "markdown",
   "metadata": {
    "slideshow": {
     "slide_type": "skip"
    }
   },
   "source": [
    "`docker run --rm -it \\\n",
    "        -v \"$PWD\"/samples:/archive \\\n",
    "        -v \"$PWD\"/hashes:/hashes \\\n",
    "        -w /hashes \\\n",
    "        --name pharos \\\n",
    "        eschwartz/pharos:$PHAROS_DOCKER_TAG`"
   ]
  },
  {
   "cell_type": "markdown",
   "metadata": {
    "slideshow": {
     "slide_type": "fragment"
    }
   },
   "source": [
    "But don't do this:\n",
    "\n",
    "`PHAROS_DOCKER_TAG=\"latest\"`\n",
    "\n",
    "** <B>CI/CD Pipelines in Data Science</B>"
   ]
  },
  {
   "cell_type": "markdown",
   "metadata": {
    "slideshow": {
     "slide_type": "slide"
    }
   },
   "source": [
    "## Rule 4: Version Control All Custom Scripts"
   ]
  },
  {
   "cell_type": "code",
   "execution_count": 5,
   "metadata": {
    "slideshow": {
     "slide_type": "fragment"
    }
   },
   "outputs": [
    {
     "name": "stdout",
     "output_type": "stream",
     "text": [
      "commit fefee2021781b566a8707320c156a7727f12ce69\n",
      "Author: Tory Clasen <ToryClasen@gmail.com>\n",
      "Date:   Wed Jul 17 01:39:16 2019 +0000\n",
      "\n",
      "    Added shell of talk\n",
      "\n",
      "commit c91ba5fbba22d213d816590fe89611c4e088b58f\n",
      "Author: Tory Clasen <ToryClasen@gmail.com>\n",
      "Date:   Wed Jul 17 01:39:02 2019 +0000\n",
      "\n",
      "    Added notebook checkpoints\n",
      "\n",
      "commit 34a4b40f9a4cfcc1cd44931fbc8b9d10f9f2a70b\n",
      "Author: Tory Clasen <ToryClasen@gmail.com>\n",
      "Date:   Wed Jul 17 01:36:51 2019 +0000\n",
      "\n",
      "    Added script to run fn2hash and fn2yara on all samples downloaded\n",
      "\n",
      "commit 871d4d4ef5015b93c77181e1707c330ba10adb33\n",
      "Author: Tory Clasen <ToryClasen@gmail.com>\n",
      "Date:   Wed Jul 17 01:36:26 2019 +0000\n",
      "\n",
      "    Added script to download malware samples from a given list of hashes\n",
      "\n",
      "commit 89b387cf8c7461c90486dddc854bdf4c365d7ab9\n",
      "Author: Tory Clasen <ToryClasen@gmail.com>\n",
      "Date:   Wed Jul 17 01:36:03 2019 +0000\n",
      "\n",
      "    Fixed folders to ignore. I need to learn how this gitignore works.\n",
      "\n",
      "commit 9a84c4890e32918695f9329496cdce7ca7558f60\n",
      "Author: Tory Clasen <ToryClasen@gmail.com>\n",
      "Date:   Wed Jul 17 01:35:15 2019 +0000\n",
      "\n",
      "    Added config file and malware folders\n",
      "\n",
      "commit ab5e947cb79d62727479348a0ee6d151fb357ec6\n",
      "Author: Tory Clasen <ToryClasen@gmail.com>\n",
      "Date:   Wed Jul 17 01:32:10 2019 +0000\n",
      "\n",
      "    Added standard jupyter server file\n",
      "\n",
      "commit b3123820bd524ca41fcf4ea5a9a887e81d4f875a\n",
      "Author: Tory Clasen <ToryClasen@gmail.com>\n",
      "Date:   Wed Jul 17 01:31:41 2019 +0000\n",
      "\n",
      "    Initial malware pull\n",
      "\n",
      "commit 1f798ef26559a660c1edaf5b65837a5edbb9dbfe\n",
      "Author: Tory Clasen <ToryClasen@gmail.com>\n",
      "Date:   Wed Jul 17 01:31:20 2019 +0000\n",
      "\n",
      "    Add product build script for slides and pdf reports\n"
     ]
    }
   ],
   "source": [
    "%%bash\n",
    "git log"
   ]
  },
  {
   "cell_type": "markdown",
   "metadata": {
    "slideshow": {
     "slide_type": "slide"
    }
   },
   "source": [
    "## Rule 5: Record All Intermediate Results, When Possible in Standardized Formats"
   ]
  },
  {
   "cell_type": "code",
   "execution_count": 6,
   "metadata": {
    "slideshow": {
     "slide_type": "skip"
    }
   },
   "outputs": [
    {
     "name": "stdout",
     "output_type": "stream",
     "text": [
      "00051B00402ACCB8A685FD77374DA817,0x00401000,2,2,53,147,51ADB788A659ACCFC01A55FD5BB296FB,51ADB788A659ACCFC01A55FD5BB296FB,5857DB86AA1F27EAED5A1A4FD65DC474,22FAAD875C868C0046084CFB6DC3846B,D40ADD2AF2612EAC4E7E67502D7D19BD,EBC72393A33D247D9C427660B00EE26A,D7ACE67CFAC1F836388E40C780749510,adc:1;add:28;call:1;cmp:1;cmpsb:1;cwde:1;dec:1;hlt:1;imul:1;in:1;lodsb:1;mov:4;or:1;push:4;sbb:1;sub:1;test:1;xchg:2;xlatb:1,BR:1;CMP:2;CRYPTO:0;FLT:0;I/O:1;LOGIC:1;MATH:33;SIMD:1;STR:2;SYS:0;UNCAT:0;VMM:0;XFER:12\n",
      "00051B00402ACCB8A685FD77374DA817,0x00401093,1,1,42,93,88F2BEE97B748C0E5F5F9EE6A4291ACC,88F2BEE97B748C0E5F5F9EE6A4291ACC,D3FD500560A6FD3B31F81C8345D11A0B,E3A24B0C644A5957FBFAF8DAE0E34950,14CD661AA379D889E154407AC70D4822,2E9D3D8E4E55CCA23E50060555D17A6F,44B22C487D842AADAC6B54246E621367,adc:1;add:24;cdq:1;enter:1;inc:1;jmp:1;mov:2;or:1;out:1;pop:1;popad:1;popfd:1;push:2;pushad:1;stosd:1;test:1;xor:1,BR:1;CMP:1;CRYPTO:0;FLT:0;I/O:1;LOGIC:2;MATH:26;SIMD:0;STR:1;SYS:0;UNCAT:0;VMM:0;XFER:10\n",
      "00051B00402ACCB8A685FD77374DA817,0x004010F0,16,10,65,157,BBDC9E021D9024070ECCD34871849704,BBDC9E021D9024070ECCD34871849704,7760EE34BB6CABF88E5BF1B19D55DC10,7BA851DC9612E69DC4039421C5B9F382,33AEC8053F411312AFF493AA4CB4B036,316C5783E8933B07DAA87D324187F437,349078C5E4E53734C77B6300DAB4BD4E,add:31;and:2;cld:1;cwde:1;inc:3;jmp:2;jne:2;jns:1;lodsb:1;loopz:1;mov:3;movsd:1;or:2;pop:2;push:1;pushad:1;ret:1;salc:1;sbb:3;scasb:1;std:1;unknown:1;xchg:1;xor:1,BR:7;CMP:0;CRYPTO:0;FLT:0;I/O:0;LOGIC:5;MATH:37;SIMD:0;STR:5;SYS:0;UNCAT:1;VMM:0;XFER:10\n"
     ]
    }
   ],
   "source": [
    "%%bash\n",
    "cat ./hashes/hashes.csv | head -n 3"
   ]
  },
  {
   "cell_type": "markdown",
   "metadata": {
    "slideshow": {
     "slide_type": "fragment"
    }
   },
   "source": [
    "Include headers with your CSVs, or instead use JSON"
   ]
  },
  {
   "cell_type": "markdown",
   "metadata": {
    "slideshow": {
     "slide_type": "slide"
    }
   },
   "source": [
    "## Rule 6: For Analyses That Include Randomness, Note Underlying Random Seeds\n"
   ]
  },
  {
   "cell_type": "code",
   "execution_count": 7,
   "metadata": {
    "slideshow": {
     "slide_type": "fragment"
    }
   },
   "outputs": [],
   "source": [
    "from random import randint\n",
    "def rolldice(): return randint(1,20)"
   ]
  },
  {
   "cell_type": "code",
   "execution_count": 8,
   "metadata": {
    "slideshow": {
     "slide_type": "fragment"
    }
   },
   "outputs": [
    {
     "data": {
      "text/plain": [
       "[9, 2, 7, 13, 4, 4, 12, 19, 10, 2]"
      ]
     },
     "execution_count": 8,
     "metadata": {},
     "output_type": "execute_result"
    }
   ],
   "source": [
    "[ rolldice() for i in range(10) ]"
   ]
  },
  {
   "cell_type": "code",
   "execution_count": 9,
   "metadata": {
    "slideshow": {
     "slide_type": "fragment"
    }
   },
   "outputs": [
    {
     "data": {
      "text/plain": [
       "[11, 20, 18, 11, 13, 18, 7, 13, 1, 9]"
      ]
     },
     "execution_count": 9,
     "metadata": {},
     "output_type": "execute_result"
    }
   ],
   "source": [
    "[ rolldice() for i in range(10) ]"
   ]
  },
  {
   "cell_type": "code",
   "execution_count": 10,
   "metadata": {
    "slideshow": {
     "slide_type": "fragment"
    }
   },
   "outputs": [],
   "source": [
    "from random import seed"
   ]
  },
  {
   "cell_type": "code",
   "execution_count": 11,
   "metadata": {
    "slideshow": {
     "slide_type": "fragment"
    }
   },
   "outputs": [
    {
     "data": {
      "text/plain": [
       "[4, 1, 9, 8, 8, 5, 4, 18, 3, 19]"
      ]
     },
     "execution_count": 11,
     "metadata": {},
     "output_type": "execute_result"
    }
   ],
   "source": [
    "seed(42)\n",
    "[ rolldice() for i in range(10) ]"
   ]
  },
  {
   "cell_type": "code",
   "execution_count": 12,
   "metadata": {
    "slideshow": {
     "slide_type": "fragment"
    }
   },
   "outputs": [
    {
     "data": {
      "text/plain": [
       "[4, 1, 9, 8, 8, 5, 4, 18, 3, 19]"
      ]
     },
     "execution_count": 12,
     "metadata": {},
     "output_type": "execute_result"
    }
   ],
   "source": [
    "seed(42)\n",
    "[ rolldice() for i in range(10) ]"
   ]
  },
  {
   "cell_type": "markdown",
   "metadata": {
    "slideshow": {
     "slide_type": "skip"
    }
   },
   "source": [
    "** <B>functional purity</B>"
   ]
  },
  {
   "cell_type": "markdown",
   "metadata": {
    "slideshow": {
     "slide_type": "slide"
    }
   },
   "source": [
    "## Rule 7: Always Store Raw Data behind Plots"
   ]
  },
  {
   "cell_type": "code",
   "execution_count": 13,
   "metadata": {
    "slideshow": {
     "slide_type": "skip"
    }
   },
   "outputs": [],
   "source": [
    "import matplotlib.pyplot as plt\n",
    "import seaborn as sns\n",
    "import pandas as pd"
   ]
  },
  {
   "cell_type": "code",
   "execution_count": 14,
   "metadata": {
    "slideshow": {
     "slide_type": "skip"
    }
   },
   "outputs": [],
   "source": [
    "names = \"filemd5,fn_addr,num_basic_blocks,num_basic_blocks_in_cfg,num_instructions,num_bytes,exact_hash,pic_hash,composite_pic_hash,mnemonic_hash,mnemonic_count_hash,mnemonic_category_hash,mnemonic_category_counts_hash,mnemonic_count_string,mnemonic_category_count_string,opt_basic_block_data,opt_bb_cfg\".split(\",\")\n",
    "df = pd.read_csv(\"./hashes/hashes.csv\", names=names)"
   ]
  },
  {
   "cell_type": "code",
   "execution_count": 15,
   "metadata": {
    "slideshow": {
     "slide_type": "fragment"
    }
   },
   "outputs": [
    {
     "data": {
      "image/png": "[encoded data removed]",
      "text/plain": [
       "<Figure size 432x288 with 2 Axes>"
      ]
     },
     "metadata": {
      "needs_background": "light"
     },
     "output_type": "display_data"
    }
   ],
   "source": [
    "sns.heatmap(df[[\"num_basic_blocks\", \"num_basic_blocks_in_cfg\", \"num_instructions\", \"num_bytes\"]].corr());"
   ]
  },
  {
   "cell_type": "code",
   "execution_count": 16,
   "metadata": {
    "slideshow": {
     "slide_type": "fragment"
    }
   },
   "outputs": [
    {
     "data": {
      "text/html": [
       "<div>\n",
       "<style scoped>\n",
       "    .dataframe tbody tr th:only-of-type {\n",
       "        vertical-align: middle;\n",
       "    }\n",
       "\n",
       "    .dataframe tbody tr th {\n",
       "        vertical-align: top;\n",
       "    }\n",
       "\n",
       "    .dataframe thead th {\n",
       "        text-align: right;\n",
       "    }\n",
       "</style>\n",
       "<table border=\"1\" class=\"dataframe\">\n",
       "  <thead>\n",
       "    <tr style=\"text-align: right;\">\n",
       "      <th></th>\n",
       "      <th>num_basic_blocks</th>\n",
       "      <th>num_basic_blocks_in_cfg</th>\n",
       "      <th>num_instructions</th>\n",
       "      <th>num_bytes</th>\n",
       "    </tr>\n",
       "  </thead>\n",
       "  <tbody>\n",
       "    <tr>\n",
       "      <th>0</th>\n",
       "      <td>2</td>\n",
       "      <td>2</td>\n",
       "      <td>53</td>\n",
       "      <td>147</td>\n",
       "    </tr>\n",
       "    <tr>\n",
       "      <th>1</th>\n",
       "      <td>1</td>\n",
       "      <td>1</td>\n",
       "      <td>42</td>\n",
       "      <td>93</td>\n",
       "    </tr>\n",
       "    <tr>\n",
       "      <th>2</th>\n",
       "      <td>16</td>\n",
       "      <td>10</td>\n",
       "      <td>65</td>\n",
       "      <td>157</td>\n",
       "    </tr>\n",
       "    <tr>\n",
       "      <th>3</th>\n",
       "      <td>5</td>\n",
       "      <td>5</td>\n",
       "      <td>44</td>\n",
       "      <td>100</td>\n",
       "    </tr>\n",
       "    <tr>\n",
       "      <th>4</th>\n",
       "      <td>1</td>\n",
       "      <td>1</td>\n",
       "      <td>2</td>\n",
       "      <td>3</td>\n",
       "    </tr>\n",
       "  </tbody>\n",
       "</table>\n",
       "</div>"
      ],
      "text/plain": [
       "   num_basic_blocks  num_basic_blocks_in_cfg  num_instructions  num_bytes\n",
       "0                 2                        2                53        147\n",
       "1                 1                        1                42         93\n",
       "2                16                       10                65        157\n",
       "3                 5                        5                44        100\n",
       "4                 1                        1                 2          3"
      ]
     },
     "execution_count": 16,
     "metadata": {},
     "output_type": "execute_result"
    }
   ],
   "source": [
    "df[[\"num_basic_blocks\", \"num_basic_blocks_in_cfg\", \"num_instructions\", \"num_bytes\"]].head()"
   ]
  },
  {
   "cell_type": "markdown",
   "metadata": {
    "slideshow": {
     "slide_type": "slide"
    }
   },
   "source": [
    "## Rule 8: Generate Hierarchical Analysis Output, Allowing Layers of Increasing Detail to Be Inspected"
   ]
  },
  {
   "cell_type": "markdown",
   "metadata": {
    "slideshow": {
     "slide_type": "fragment"
    }
   },
   "source": [
    "### Collect\n",
    " - Collection\n",
    " - Formatting\n",
    " - Cleaning\n",
    " - Normalizing\n",
    " - Feature Engineering\n",
    " \n",
    " ** <B>Data Engineer / Data Architect</B>"
   ]
  },
  {
   "cell_type": "markdown",
   "metadata": {
    "slideshow": {
     "slide_type": "fragment"
    }
   },
   "source": [
    "### Describe\n",
    " - Measures of central tendency\n",
    " - Measures of variability"
   ]
  },
  {
   "cell_type": "markdown",
   "metadata": {
    "slideshow": {
     "slide_type": "fragment"
    }
   },
   "source": [
    "### Discover\n",
    " - Anomaly / Outlier Detection\n",
    " - Trend Analysis\n",
    " - Dimensionality Reduction\n",
    " - Cluster Analysis\n",
    "\n",
    "** <B>Data Exploration</B>"
   ]
  },
  {
   "cell_type": "markdown",
   "metadata": {
    "slideshow": {
     "slide_type": "slide"
    }
   },
   "source": [
    "## Rule 9: Connect Textual Statements to Underlying Results"
   ]
  },
  {
   "cell_type": "markdown",
   "metadata": {
    "slideshow": {
     "slide_type": "skip"
    }
   },
   "source": [
    "Why are you even doing this?"
   ]
  },
  {
   "cell_type": "markdown",
   "metadata": {
    "slideshow": {
     "slide_type": "fragment"
    }
   },
   "source": [
    "Start with an analytic research question"
   ]
  },
  {
   "cell_type": "markdown",
   "metadata": {
    "slideshow": {
     "slide_type": "slide"
    }
   },
   "source": [
    "## Rule 10: Provide Public Access to Scripts, Runs, and Results"
   ]
  },
  {
   "cell_type": "markdown",
   "metadata": {
    "slideshow": {
     "slide_type": "skip"
    }
   },
   "source": [
    "https://github.com/tclasen/Reproducible-Data-Science"
   ]
  },
  {
   "cell_type": "markdown",
   "metadata": {
    "slideshow": {
     "slide_type": "slide"
    }
   },
   "source": [
    "# Questions?\n",
    "\n",
    "** <B>Show me the notebook!<B>"
   ]
  },
  {
   "cell_type": "markdown",
   "metadata": {
    "slideshow": {
     "slide_type": "skip"
    }
   },
   "source": [
    "\n",
    "https://www.amstat.org/asa/files/pdfs/POL-ReproducibleResearchRecommendations.pdf\n",
    "\n",
    "https://data-ken.org/how-to-build-reproducable-data-science-workflow.html\n",
    "\n",
    "https://journals.plos.org/ploscompbiol/article?id=10.1371/journal.pcbi.1003285#s9"
   ]
  }
 ],
 "metadata": {
  "celltoolbar": "Slideshow",
  "kernelspec": {
   "display_name": "Python 3",
   "language": "python",
   "name": "python3"
  },
  "language_info": {
   "codemirror_mode": {
    "name": "ipython",
    "version": 3
   },
   "file_extension": ".py",
   "mimetype": "text/x-python",
   "name": "python",
   "nbconvert_exporter": "python",
   "pygments_lexer": "ipython3",
   "version": "3.7.3"
  }
 },
 "nbformat": 4,
 "nbformat_minor": 2
}
